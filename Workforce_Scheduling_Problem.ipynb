{
  "cells": [
    {
      "cell_type": "markdown",
      "source": [
        "# Workforce Scheduling Problem\n",
        "\n",
        "# Description:\n",
        "A company operates 7 days a week and needs to assign employees to daily shifts.\n",
        "The company must meet the minimum daily staffing requirements, and each employee\n",
        "is allowed to work a maximum number of days per week to avoid burnout. Employees\n",
        "have different hourly wages, and the shifts are 8 hours long. The objective is\n",
        "to schedule employees in a way that satisfies the following constraints:\n",
        "\n",
        "1. The minimum number of employees required for each day is met.\n",
        "2. No employee works more than their allowed maximum workdays in the week.\n",
        "3. The total cost of wages is minimized.\n",
        "\n",
        "Definitions:\n",
        "- Number of employees: 5\n",
        "- Number of days: 7\n",
        "- Hourly wages for employees: [15, 20, 18, 22, 19] (in Euro per hour)\n",
        "- Maximum workdays per employee: [5, 5, 4, 4, 5]\n",
        "- Daily staffing requirements: [3, 2, 4, 3, 2, 3, 4] (number of employees required each day)\n",
        "- Shift duration: 8 hours\n",
        "\n",
        "Goal:\n",
        "To determine the optimal schedule that minimizes the total wage cost while adhering\n",
        "to the constraints.\n",
        "\n",
        "Output:\n",
        "- The optimal total cost of scheduling.\n",
        "- The daily work schedule for each employee."
      ],
      "metadata": {
        "id": "mmTgqgHU6aCa"
      }
    },
    {
      "cell_type": "code",
      "source": [
        "!pip install Pulp"
      ],
      "metadata": {
        "colab": {
          "base_uri": "https://localhost:8080/"
        },
        "id": "Pf0sfbMTv__T",
        "outputId": "6db9df4c-7569-47c8-d4f6-559025c7bf01"
      },
      "execution_count": null,
      "outputs": [
        {
          "output_type": "stream",
          "name": "stdout",
          "text": [
            "Collecting Pulp\n",
            "  Downloading PuLP-2.9.0-py3-none-any.whl.metadata (5.4 kB)\n",
            "Downloading PuLP-2.9.0-py3-none-any.whl (17.7 MB)\n",
            "\u001b[2K   \u001b[90m━━━━━━━━━━━━━━━━━━━━━━━━━━━━━━━━━━━━━━━━\u001b[0m \u001b[32m17.7/17.7 MB\u001b[0m \u001b[31m79.0 MB/s\u001b[0m eta \u001b[36m0:00:00\u001b[0m\n",
            "\u001b[?25hInstalling collected packages: Pulp\n",
            "Successfully installed Pulp-2.9.0\n"
          ]
        }
      ]
    },
    {
      "cell_type": "code",
      "source": [
        "from pulp import *"
      ],
      "metadata": {
        "id": "r6o-etxwxJgA"
      },
      "execution_count": 20,
      "outputs": []
    },
    {
      "cell_type": "code",
      "source": [
        "# Define the data\n",
        "num_employees = 5\n",
        "num_days = 7\n",
        "\n",
        "# Hourly wages for each employee\n",
        "wages = [15, 20, 18, 22, 19]\n",
        "\n",
        "# Maximum workdays for each employee\n",
        "max_workdays = [5, 5, 4, 4, 5]\n",
        "\n",
        "# Daily staffing requirements (minimum employees required each day)\n",
        "daily_requirements = [3, 2, 4, 3, 2, 3, 4]\n",
        "\n",
        "# Shift duration in hours\n",
        "shift_hours = 8\n"
      ],
      "metadata": {
        "id": "ILCjiewO7lmc"
      },
      "execution_count": 21,
      "outputs": []
    },
    {
      "cell_type": "code",
      "source": [
        "# Create the linear programming problem (maximize)\n",
        "problem = LpProblem(\"Workforce_Scheduling\", LpMinimize)"
      ],
      "metadata": {
        "id": "YvyJ5Dvmxv0O"
      },
      "execution_count": 22,
      "outputs": []
    },
    {
      "cell_type": "code",
      "source": [
        "# x[i][j] is a binary variable indicating if employee i is assigned to day j\n",
        "x = [\n",
        "    [LpVariable(f\"x_{i}_{j}\", cat=\"Binary\") for j in range(num_days)]\n",
        "    for i in range(num_employees)\n",
        "]"
      ],
      "metadata": {
        "id": "soR-bfV08QIu"
      },
      "execution_count": 23,
      "outputs": []
    },
    {
      "cell_type": "code",
      "source": [
        "# Objective function: Minimize total wage cost\n",
        "problem += lpSum(\n",
        "    wages[i] * shift_hours * x[i][j] for i in range(num_employees) for j in range(num_days)\n",
        "), \"Total_Wage_Cost\""
      ],
      "metadata": {
        "id": "8I3sujYxygx5"
      },
      "execution_count": 24,
      "outputs": []
    },
    {
      "cell_type": "code",
      "source": [
        "# Constraints: Ensure daily staffing requirements are met\n",
        "for j in range(num_days):\n",
        "    problem += (\n",
        "        lpSum(x[i][j] for i in range(num_employees)) >= daily_requirements[j],\n",
        "        f\"Daily_Requirement_Day_{j+1}\",\n",
        "    )"
      ],
      "metadata": {
        "id": "vOmLQ-5XzFv-"
      },
      "execution_count": 25,
      "outputs": []
    },
    {
      "cell_type": "code",
      "source": [
        "# Constraints: Ensure no employee works more than their allowed maximum workdays\n",
        "for i in range(num_employees):\n",
        "    problem += (\n",
        "        lpSum(x[i][j] for j in range(num_days)) <= max_workdays[i],\n",
        "        f\"Max_Workdays_Employee_{i+1}\",\n",
        "    )\n"
      ],
      "metadata": {
        "id": "FR5_rCzXzs24"
      },
      "execution_count": 26,
      "outputs": []
    },
    {
      "cell_type": "code",
      "source": [
        "# Solve the problem\n",
        "problem.solve()"
      ],
      "metadata": {
        "colab": {
          "base_uri": "https://localhost:8080/"
        },
        "id": "NmePKnV-0LzT",
        "outputId": "92a3e8fc-336a-44ad-c15f-0b69947136c2"
      },
      "execution_count": 27,
      "outputs": [
        {
          "output_type": "execute_result",
          "data": {
            "text/plain": [
              "1"
            ]
          },
          "metadata": {},
          "execution_count": 27
        }
      ]
    },
    {
      "cell_type": "code",
      "source": [
        "# Print the results\n",
        "print(f\"Status: {LpStatus[problem.status]}\")\n",
        "if LpStatus[problem.status] == \"Optimal\":\n",
        "    print(f\"Total Cost: ${value(problem.objective):.2f}\\n\")\n",
        "    print(\"Work Schedule:\")\n",
        "    for i in range(num_employees):\n",
        "        schedule = [f\"Day {j+1}\" for j in range(num_days) if x[i][j].varValue == 1]\n",
        "        print(f\"  Employee {i+1}: {', '.join(schedule) if schedule else 'No shifts assigned'}\")\n",
        "else:\n",
        "    print(\"No optimal solution found.\")"
      ],
      "metadata": {
        "colab": {
          "base_uri": "https://localhost:8080/"
        },
        "id": "xqBoSeif0Xcm",
        "outputId": "e369091a-cb0c-4d88-d636-cb854733adb2"
      },
      "execution_count": 28,
      "outputs": [
        {
          "output_type": "stream",
          "name": "stdout",
          "text": [
            "Status: Optimal\n",
            "Total Cost: $3088.00\n",
            "\n",
            "Work Schedule:\n",
            "  Employee 1: Day 2, Day 4, Day 5, Day 6, Day 7\n",
            "  Employee 2: Day 1, Day 3, Day 4, Day 6, Day 7\n",
            "  Employee 3: Day 1, Day 3, Day 5, Day 7\n",
            "  Employee 4: Day 1, Day 3\n",
            "  Employee 5: Day 2, Day 3, Day 4, Day 6, Day 7\n"
          ]
        }
      ]
    },
    {
      "cell_type": "code",
      "source": [],
      "metadata": {
        "id": "nux7DLSV1f5k"
      },
      "execution_count": null,
      "outputs": []
    }
  ],
  "metadata": {
    "colab": {
      "toc_visible": true,
      "provenance": []
    },
    "kernelspec": {
      "display_name": "Python 3",
      "name": "python3"
    }
  },
  "nbformat": 4,
  "nbformat_minor": 0
}