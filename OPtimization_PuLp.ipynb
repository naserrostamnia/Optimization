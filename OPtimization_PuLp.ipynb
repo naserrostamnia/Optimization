{
  "cells": [
    {
      "cell_type": "markdown",
      "source": [
        "![image.png](data:image/png;base64,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)"
      ],
      "metadata": {
        "id": "3iReGnk9xa2O"
      }
    },
    {
      "cell_type": "code",
      "source": [
        "!pip install Pulp"
      ],
      "metadata": {
        "colab": {
          "base_uri": "https://localhost:8080/"
        },
        "id": "Pf0sfbMTv__T",
        "outputId": "6db9df4c-7569-47c8-d4f6-559025c7bf01"
      },
      "execution_count": 5,
      "outputs": [
        {
          "output_type": "stream",
          "name": "stdout",
          "text": [
            "Collecting Pulp\n",
            "  Downloading PuLP-2.9.0-py3-none-any.whl.metadata (5.4 kB)\n",
            "Downloading PuLP-2.9.0-py3-none-any.whl (17.7 MB)\n",
            "\u001b[2K   \u001b[90m━━━━━━━━━━━━━━━━━━━━━━━━━━━━━━━━━━━━━━━━\u001b[0m \u001b[32m17.7/17.7 MB\u001b[0m \u001b[31m79.0 MB/s\u001b[0m eta \u001b[36m0:00:00\u001b[0m\n",
            "\u001b[?25hInstalling collected packages: Pulp\n",
            "Successfully installed Pulp-2.9.0\n"
          ]
        }
      ]
    },
    {
      "cell_type": "code",
      "source": [
        "from pulp import *"
      ],
      "metadata": {
        "id": "r6o-etxwxJgA"
      },
      "execution_count": 6,
      "outputs": []
    },
    {
      "cell_type": "code",
      "source": [
        "# Create the linear programming problem (maximize)\n",
        "problem = LpProblem(\"Maximization_Problem\", LpMaximize)"
      ],
      "metadata": {
        "id": "YvyJ5Dvmxv0O"
      },
      "execution_count": 7,
      "outputs": []
    },
    {
      "cell_type": "code",
      "source": [
        "# Define the decision variables\n",
        "x1 = LpVariable(\"x1\", lowBound=0)  # x1 >= 0\n",
        "x2 = LpVariable(\"x2\", lowBound=0)  # x2 >= 0"
      ],
      "metadata": {
        "id": "8I3sujYxygx5"
      },
      "execution_count": 9,
      "outputs": []
    },
    {
      "cell_type": "code",
      "source": [
        "# Define the objective function\n",
        "problem += 3 * x1 + 2 * x2, \"Objective\""
      ],
      "metadata": {
        "id": "vOmLQ-5XzFv-"
      },
      "execution_count": 10,
      "outputs": []
    },
    {
      "cell_type": "code",
      "source": [
        "# Define the constraints\n",
        "problem +=     x1 + x2 <= 4, \"constraint 1\"\n",
        "problem += 2 * x1 + x2 <= 5, \"constraint 2\""
      ],
      "metadata": {
        "id": "FR5_rCzXzs24"
      },
      "execution_count": 11,
      "outputs": []
    },
    {
      "cell_type": "code",
      "source": [
        "# Solve the problem using the simplex algorithm\n",
        "problem.solve()"
      ],
      "metadata": {
        "colab": {
          "base_uri": "https://localhost:8080/"
        },
        "id": "NmePKnV-0LzT",
        "outputId": "c7a81c0b-7e40-4ef3-e184-d7680cdb089c"
      },
      "execution_count": 12,
      "outputs": [
        {
          "output_type": "execute_result",
          "data": {
            "text/plain": [
              "1"
            ]
          },
          "metadata": {},
          "execution_count": 12
        }
      ]
    },
    {
      "cell_type": "code",
      "source": [
        "# Print the results\n",
        "print(f\"Status: {LpStatus[problem.status]}\")\n",
        "print(f\"Objective value: {value(problem.objective)}\")\n",
        "print(f\"x1: {x1.varValue}\")\n",
        "print(f\"x2: {x2.varValue}\")"
      ],
      "metadata": {
        "colab": {
          "base_uri": "https://localhost:8080/"
        },
        "id": "xqBoSeif0Xcm",
        "outputId": "b71fc62e-0152-4b4e-b388-93a5e280e93e"
      },
      "execution_count": 17,
      "outputs": [
        {
          "output_type": "stream",
          "name": "stdout",
          "text": [
            "Status: Optimal\n",
            "Objective value: 9.0\n",
            "x1: 1.0\n",
            "x2: 3.0\n"
          ]
        }
      ]
    },
    {
      "cell_type": "code",
      "source": [],
      "metadata": {
        "id": "nux7DLSV1f5k"
      },
      "execution_count": null,
      "outputs": []
    }
  ],
  "metadata": {
    "colab": {
      "toc_visible": true,
      "provenance": []
    },
    "kernelspec": {
      "display_name": "Python 3",
      "name": "python3"
    }
  },
  "nbformat": 4,
  "nbformat_minor": 0
}